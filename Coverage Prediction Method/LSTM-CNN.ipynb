{
 "cells": [
  {
   "cell_type": "code",
   "execution_count": 1,
   "id": "823ba00d-aee2-43d4-a3ed-ea90724196f9",
   "metadata": {
    "tags": []
   },
   "outputs": [
    {
     "name": "stderr",
     "output_type": "stream",
     "text": [
      "2023-03-07 19:32:03.834482: I tensorflow/core/platform/cpu_feature_guard.cc:193] This TensorFlow binary is optimized with oneAPI Deep Neural Network Library (oneDNN) to use the following CPU instructions in performance-critical operations:  FMA\n",
      "To enable them in other operations, rebuild TensorFlow with the appropriate compiler flags.\n",
      "2023-03-07 19:32:05.929293: I tensorflow/compiler/xla/stream_executor/cuda/cuda_gpu_executor.cc:981] successful NUMA node read from SysFS had negative value (-1), but there must be at least one NUMA node, so returning NUMA node zero\n",
      "2023-03-07 19:32:05.962463: I tensorflow/compiler/xla/stream_executor/cuda/cuda_gpu_executor.cc:981] successful NUMA node read from SysFS had negative value (-1), but there must be at least one NUMA node, so returning NUMA node zero\n",
      "2023-03-07 19:32:05.971734: I tensorflow/compiler/xla/stream_executor/cuda/cuda_gpu_executor.cc:981] successful NUMA node read from SysFS had negative value (-1), but there must be at least one NUMA node, so returning NUMA node zero\n"
     ]
    },
    {
     "data": {
      "text/plain": [
       "[PhysicalDevice(name='/physical_device:GPU:0', device_type='GPU')]"
      ]
     },
     "execution_count": 1,
     "metadata": {},
     "output_type": "execute_result"
    }
   ],
   "source": [
    "import numpy as np\n",
    "from keras.models import Sequential\n",
    "from keras.layers import LSTM, Dense, Conv1D, MaxPooling1D\n",
    "from sklearn.model_selection import train_test_split\n",
    "from sklearn.utils import class_weight\n",
    "from keras.optimizers import Adam\n",
    "from keras.callbacks import EarlyStopping, ModelCheckpoint\n",
    "from keras import regularizers\n",
    "from keras.losses import binary_crossentropy, mean_squared_error\n",
    "import matplotlib.pyplot as plt\n",
    "import tensorflow as tf\n",
    "\n",
    "tf.config.list_physical_devices('GPU')"
   ]
  },
  {
   "cell_type": "code",
   "execution_count": 2,
   "id": "2484e15e-6a05-450b-911f-0ad5f6aa91f8",
   "metadata": {},
   "outputs": [
    {
     "name": "stdout",
     "output_type": "stream",
     "text": [
      "Training: (72440, 125, 40) (72440, 1)\n",
      "Validation: (8944, 125, 40) (8944, 1)\n",
      "Test: (8049, 125, 40) (8049, 1)\n"
     ]
    }
   ],
   "source": [
    "data = np.load(\"mutations_coverage_prediction.npz\")\n",
    "max_len = 5000\n",
    "X, Y = data['x'], data['y']\n",
    "X = X.reshape((X.shape[0],X.shape[1]//40,40))\n",
    "Y = Y.reshape((Y.shape[0],1))\n",
    "\n",
    "train_x, val_x, train_y, val_y = train_test_split(X, Y, test_size=0.1)\n",
    "train_x, test_x, train_y, test_y = train_test_split(train_x, train_y, test_size=0.1)\n",
    "del X\n",
    "del Y\n",
    "del data\n",
    "\n",
    "print ('Training:', train_x.shape, train_y.shape)\n",
    "print ('Validation:', val_x.shape, val_y.shape)\n",
    "print ('Test:', test_x.shape, test_y.shape)"
   ]
  },
  {
   "cell_type": "code",
   "execution_count": 3,
   "id": "d8f2c816-6cdf-456d-976d-0afd923915d5",
   "metadata": {},
   "outputs": [
    {
     "name": "stderr",
     "output_type": "stream",
     "text": [
      "2023-03-07 19:32:10.427998: I tensorflow/core/platform/cpu_feature_guard.cc:193] This TensorFlow binary is optimized with oneAPI Deep Neural Network Library (oneDNN) to use the following CPU instructions in performance-critical operations:  FMA\n",
      "To enable them in other operations, rebuild TensorFlow with the appropriate compiler flags.\n",
      "2023-03-07 19:32:10.429391: I tensorflow/compiler/xla/stream_executor/cuda/cuda_gpu_executor.cc:981] successful NUMA node read from SysFS had negative value (-1), but there must be at least one NUMA node, so returning NUMA node zero\n",
      "2023-03-07 19:32:10.429569: I tensorflow/compiler/xla/stream_executor/cuda/cuda_gpu_executor.cc:981] successful NUMA node read from SysFS had negative value (-1), but there must be at least one NUMA node, so returning NUMA node zero\n",
      "2023-03-07 19:32:10.429692: I tensorflow/compiler/xla/stream_executor/cuda/cuda_gpu_executor.cc:981] successful NUMA node read from SysFS had negative value (-1), but there must be at least one NUMA node, so returning NUMA node zero\n",
      "2023-03-07 19:32:10.730656: I tensorflow/compiler/xla/stream_executor/cuda/cuda_gpu_executor.cc:981] successful NUMA node read from SysFS had negative value (-1), but there must be at least one NUMA node, so returning NUMA node zero\n",
      "2023-03-07 19:32:10.730822: I tensorflow/compiler/xla/stream_executor/cuda/cuda_gpu_executor.cc:981] successful NUMA node read from SysFS had negative value (-1), but there must be at least one NUMA node, so returning NUMA node zero\n",
      "2023-03-07 19:32:10.730949: I tensorflow/compiler/xla/stream_executor/cuda/cuda_gpu_executor.cc:981] successful NUMA node read from SysFS had negative value (-1), but there must be at least one NUMA node, so returning NUMA node zero\n",
      "2023-03-07 19:32:10.731055: I tensorflow/core/common_runtime/gpu/gpu_device.cc:1613] Created device /job:localhost/replica:0/task:0/device:GPU:0 with 6474 MB memory:  -> device: 0, name: NVIDIA GeForce RTX 3080, pci bus id: 0000:0a:00.0, compute capability: 8.6\n",
      "2023-03-07 19:32:10.731272: I tensorflow/core/common_runtime/process_util.cc:146] Creating new thread pool with default inter op setting: 2. Tune using inter_op_parallelism_threads for best performance.\n"
     ]
    },
    {
     "name": "stdout",
     "output_type": "stream",
     "text": [
      "Model: \"sequential\"\n",
      "_________________________________________________________________\n",
      " Layer (type)                Output Shape              Param #   \n",
      "=================================================================\n",
      " conv1d (Conv1D)             (None, 123, 512)          61952     \n",
      "                                                                 \n",
      " max_pooling1d (MaxPooling1D  (None, 61, 512)          0         \n",
      " )                                                               \n",
      "                                                                 \n",
      " lstm (LSTM)                 (None, 61, 512)           2099200   \n",
      "                                                                 \n",
      " dense (Dense)               (None, 61, 1)             513       \n",
      "                                                                 \n",
      "=================================================================\n",
      "Total params: 2,161,665\n",
      "Trainable params: 2,161,665\n",
      "Non-trainable params: 0\n",
      "_________________________________________________________________\n"
     ]
    }
   ],
   "source": [
    "# Base model\n",
    "model = Sequential()\n",
    "model.add(Conv1D(512, kernel_size=3, activation='relu', input_shape=train_x[0].shape))\n",
    "model.add(MaxPooling1D(pool_size=2))\n",
    "model.add(LSTM(512, return_sequences=True))\n",
    "model.add(Dense(1, kernel_regularizer=regularizers.L1L2(l1=1e-5, l2=1e-4),\n",
    "          bias_regularizer=regularizers.L2(1e-4),\n",
    "          activity_regularizer=regularizers.L2(1e-5)))\n",
    "model.summary()\n",
    "adam = Adam(learning_rate=0.000005)\n",
    "model.compile(optimizer=adam, loss=mean_squared_error)"
   ]
  },
  {
   "cell_type": "code",
   "execution_count": 4,
   "id": "f3741e62-c797-4356-b168-c004b92dc2bf",
   "metadata": {
    "jupyter": {
     "source_hidden": true
    },
    "tags": []
   },
   "outputs": [
    {
     "name": "stdout",
     "output_type": "stream",
     "text": [
      "Epoch 1/100\n"
     ]
    },
    {
     "name": "stderr",
     "output_type": "stream",
     "text": [
      "2023-03-07 19:32:12.851619: I tensorflow/compiler/xla/stream_executor/cuda/cuda_dnn.cc:428] Loaded cuDNN version 8600\n",
      "2023-03-07 19:32:13.780950: I tensorflow/compiler/xla/stream_executor/cuda/cuda_blas.cc:630] TensorFloat-32 will be used for the matrix multiplication. This will only be logged once.\n"
     ]
    },
    {
     "name": "stdout",
     "output_type": "stream",
     "text": [
      "1132/1132 [==============================] - ETA: 0s - loss: 13.0658 - mae: 2.7849\n",
      "Epoch 1: val_loss improved from inf to 8.20642, saving model to best_model_lstm_cnn_checkpoint.h5\n",
      "1132/1132 [==============================] - 11s 8ms/step - loss: 13.0658 - mae: 2.7849 - val_loss: 8.2064 - val_mae: 2.2781\n",
      "Epoch 2/100\n",
      "1125/1132 [============================>.] - ETA: 0s - loss: 8.0188 - mae: 2.2422\n",
      "Epoch 2: val_loss improved from 8.20642 to 7.91064, saving model to best_model_lstm_cnn_checkpoint.h5\n",
      "1132/1132 [==============================] - 8s 7ms/step - loss: 8.0221 - mae: 2.2422 - val_loss: 7.9106 - val_mae: 2.2384\n",
      "Epoch 3/100\n",
      "1126/1132 [============================>.] - ETA: 0s - loss: 7.7862 - mae: 2.2083\n",
      "Epoch 3: val_loss improved from 7.91064 to 7.77000, saving model to best_model_lstm_cnn_checkpoint.h5\n",
      "1132/1132 [==============================] - 8s 7ms/step - loss: 7.7918 - mae: 2.2093 - val_loss: 7.7700 - val_mae: 2.2163\n",
      "Epoch 4/100\n",
      "1125/1132 [============================>.] - ETA: 0s - loss: 7.6583 - mae: 2.1882\n",
      "Epoch 4: val_loss improved from 7.77000 to 7.66233, saving model to best_model_lstm_cnn_checkpoint.h5\n",
      "1132/1132 [==============================] - 8s 7ms/step - loss: 7.6585 - mae: 2.1884 - val_loss: 7.6623 - val_mae: 2.1986\n",
      "Epoch 5/100\n",
      "1132/1132 [==============================] - ETA: 0s - loss: 7.5626 - mae: 2.1745\n",
      "Epoch 5: val_loss improved from 7.66233 to 7.60685, saving model to best_model_lstm_cnn_checkpoint.h5\n",
      "1132/1132 [==============================] - 8s 7ms/step - loss: 7.5626 - mae: 2.1745 - val_loss: 7.6069 - val_mae: 2.1885\n",
      "Epoch 6/100\n",
      "1127/1132 [============================>.] - ETA: 0s - loss: 7.4821 - mae: 2.1609\n",
      "Epoch 6: val_loss did not improve from 7.60685\n",
      "1132/1132 [==============================] - 8s 7ms/step - loss: 7.4822 - mae: 2.1609 - val_loss: 7.6735 - val_mae: 2.2213\n",
      "Epoch 7/100\n",
      "1129/1132 [============================>.] - ETA: 0s - loss: 7.3869 - mae: 2.1460\n",
      "Epoch 7: val_loss improved from 7.60685 to 7.52074, saving model to best_model_lstm_cnn_checkpoint.h5\n",
      "1132/1132 [==============================] - 9s 8ms/step - loss: 7.3884 - mae: 2.1462 - val_loss: 7.5207 - val_mae: 2.1687\n",
      "Epoch 8/100\n",
      "1132/1132 [==============================] - ETA: 0s - loss: 7.2910 - mae: 2.1308\n",
      "Epoch 8: val_loss improved from 7.52074 to 7.47482, saving model to best_model_lstm_cnn_checkpoint.h5\n",
      "1132/1132 [==============================] - 9s 8ms/step - loss: 7.2910 - mae: 2.1308 - val_loss: 7.4748 - val_mae: 2.1722\n",
      "Epoch 9/100\n",
      "1127/1132 [============================>.] - ETA: 0s - loss: 7.1815 - mae: 2.1130\n",
      "Epoch 9: val_loss did not improve from 7.47482\n",
      "1132/1132 [==============================] - 8s 7ms/step - loss: 7.1845 - mae: 2.1133 - val_loss: 7.4886 - val_mae: 2.1801\n",
      "Epoch 10/100\n",
      "1128/1132 [============================>.] - ETA: 0s - loss: 7.0784 - mae: 2.0966\n",
      "Epoch 10: val_loss improved from 7.47482 to 7.41279, saving model to best_model_lstm_cnn_checkpoint.h5\n",
      "1132/1132 [==============================] - 8s 7ms/step - loss: 7.0770 - mae: 2.0962 - val_loss: 7.4128 - val_mae: 2.1541\n",
      "Epoch 11/100\n",
      "1129/1132 [============================>.] - ETA: 0s - loss: 6.9626 - mae: 2.0777\n",
      "Epoch 11: val_loss improved from 7.41279 to 7.40103, saving model to best_model_lstm_cnn_checkpoint.h5\n",
      "1132/1132 [==============================] - 8s 7ms/step - loss: 6.9643 - mae: 2.0779 - val_loss: 7.4010 - val_mae: 2.1422\n",
      "Epoch 12/100\n",
      "1125/1132 [============================>.] - ETA: 0s - loss: 6.8514 - mae: 2.0591\n",
      "Epoch 12: val_loss did not improve from 7.40103\n",
      "1132/1132 [==============================] - 8s 7ms/step - loss: 6.8509 - mae: 2.0591 - val_loss: 7.4243 - val_mae: 2.1422\n",
      "Epoch 13/100\n",
      "1129/1132 [============================>.] - ETA: 0s - loss: 6.7288 - mae: 2.0399\n",
      "Epoch 13: val_loss improved from 7.40103 to 7.39189, saving model to best_model_lstm_cnn_checkpoint.h5\n",
      "1132/1132 [==============================] - 8s 7ms/step - loss: 6.7266 - mae: 2.0396 - val_loss: 7.3919 - val_mae: 2.1471\n",
      "Epoch 14/100\n",
      "1132/1132 [==============================] - ETA: 0s - loss: 6.6154 - mae: 2.0205\n",
      "Epoch 14: val_loss did not improve from 7.39189\n",
      "1132/1132 [==============================] - 8s 7ms/step - loss: 6.6154 - mae: 2.0205 - val_loss: 7.4478 - val_mae: 2.1599\n",
      "Epoch 15/100\n",
      "1129/1132 [============================>.] - ETA: 0s - loss: 6.5022 - mae: 2.0013\n",
      "Epoch 15: val_loss did not improve from 7.39189\n",
      "1132/1132 [==============================] - 8s 7ms/step - loss: 6.4994 - mae: 2.0010 - val_loss: 7.4045 - val_mae: 2.1367\n",
      "Epoch 16/100\n",
      "1132/1132 [==============================] - ETA: 0s - loss: 6.3822 - mae: 1.9826\n",
      "Epoch 16: val_loss did not improve from 7.39189\n",
      "1132/1132 [==============================] - 8s 7ms/step - loss: 6.3822 - mae: 1.9826 - val_loss: 7.4861 - val_mae: 2.1366\n",
      "Epoch 17/100\n",
      "1127/1132 [============================>.] - ETA: 0s - loss: 6.2745 - mae: 1.9640\n",
      "Epoch 17: val_loss did not improve from 7.39189\n",
      "1132/1132 [==============================] - 8s 7ms/step - loss: 6.2726 - mae: 1.9638 - val_loss: 7.4959 - val_mae: 2.1384\n",
      "Epoch 18/100\n",
      "1130/1132 [============================>.] - ETA: 0s - loss: 6.1609 - mae: 1.9448\n",
      "Epoch 18: val_loss did not improve from 7.39189\n",
      "1132/1132 [==============================] - 9s 8ms/step - loss: 6.1574 - mae: 1.9443 - val_loss: 7.4941 - val_mae: 2.1487\n",
      "Epoch 19/100\n",
      "1127/1132 [============================>.] - ETA: 0s - loss: 6.0443 - mae: 1.9250\n",
      "Epoch 19: val_loss did not improve from 7.39189\n",
      "1132/1132 [==============================] - 9s 8ms/step - loss: 6.0424 - mae: 1.9248 - val_loss: 7.5584 - val_mae: 2.1577\n",
      "Epoch 20/100\n",
      "1129/1132 [============================>.] - ETA: 0s - loss: 5.9431 - mae: 1.9082\n",
      "Epoch 20: val_loss did not improve from 7.39189\n",
      "1132/1132 [==============================] - 8s 7ms/step - loss: 5.9416 - mae: 1.9081 - val_loss: 7.6188 - val_mae: 2.1684\n",
      "Epoch 21/100\n",
      "1131/1132 [============================>.] - ETA: 0s - loss: 5.8355 - mae: 1.8898\n",
      "Epoch 21: val_loss did not improve from 7.39189\n",
      "1132/1132 [==============================] - 8s 7ms/step - loss: 5.8358 - mae: 1.8900 - val_loss: 7.5715 - val_mae: 2.1555\n",
      "Epoch 22/100\n",
      "1127/1132 [============================>.] - ETA: 0s - loss: 5.7142 - mae: 1.8695\n",
      "Epoch 22: val_loss did not improve from 7.39189\n",
      "1132/1132 [==============================] - 8s 7ms/step - loss: 5.7166 - mae: 1.8699 - val_loss: 7.5651 - val_mae: 2.1503\n",
      "Epoch 23/100\n",
      "1130/1132 [============================>.] - ETA: 0s - loss: 5.6267 - mae: 1.8534\n",
      "Epoch 23: val_loss did not improve from 7.39189\n",
      "1132/1132 [==============================] - 8s 7ms/step - loss: 5.6251 - mae: 1.8530 - val_loss: 7.6244 - val_mae: 2.1563\n"
     ]
    }
   ],
   "source": [
    "es = EarlyStopping(monitor='val_mae', patience=7)\n",
    "\n",
    "filepath = 'best_model_lstm_cnn_checkpoint.h5'\n",
    "\n",
    "checkpoint = ModelCheckpoint(\n",
    "    filepath,\n",
    "    monitor='val_loss',\n",
    "    verbose=1,\n",
    "    save_best_only=True,\n",
    "    mode='min'\n",
    ")\n",
    "\n",
    "history = model.fit(train_x, train_y,\n",
    "                    batch_size=64,\n",
    "                    epochs=100,\n",
    "                    validation_data=(val_x, val_y),\n",
    "                    callbacks =[es, checkpoint])"
   ]
  },
  {
   "cell_type": "code",
   "execution_count": 5,
   "id": "b3aae111-a18c-4eb0-9d63-726307a71f7d",
   "metadata": {},
   "outputs": [
    {
     "name": "stdout",
     "output_type": "stream",
     "text": [
      "252/252 [==============================] - 1s 3ms/step - loss: 7.4793 - mae: 2.1525\n"
     ]
    },
    {
     "data": {
      "text/plain": [
       "[7.479348659515381, 2.152470588684082]"
      ]
     },
     "execution_count": 5,
     "metadata": {},
     "output_type": "execute_result"
    }
   ],
   "source": [
    "from keras.models import load_model\n",
    "model.load_weights(\"best_model_lstm_cnn_checkpoint.h5\")\n",
    "test_loss = model.evaluate(test_x, test_y)\n",
    "test_loss"
   ]
  },
  {
   "cell_type": "code",
   "execution_count": 6,
   "id": "d6e22a4a-b906-4726-9739-d4d2c320419b",
   "metadata": {},
   "outputs": [
    {
     "data": {
      "image/png": "[encoded data removed]",
      "text/plain": [
       "<Figure size 640x480 with 1 Axes>"
      ]
     },
     "metadata": {},
     "output_type": "display_data"
    }
   ],
   "source": [
    "plt.style.use('apa')\n",
    "# summarize history for loss\n",
    "plt.plot(history.history['loss'], color='cornflowerblue',alpha=1)\n",
    "plt.plot(history.history['val_loss'],color='tomato',alpha=1)\n",
    "plt.ylabel('loss')\n",
    "plt.xlabel('epoch')\n",
    "plt.legend(['train', 'validation'], loc='upper left')\n",
    "plt.show()"
   ]
  }
 ],
 "metadata": {
  "kernelspec": {
   "display_name": "Python 3 (ipykernel)",
   "language": "python",
   "name": "python3"
  },
  "language_info": {
   "codemirror_mode": {
    "name": "ipython",
    "version": 3
   },
   "file_extension": ".py",
   "mimetype": "text/x-python",
   "name": "python",
   "nbconvert_exporter": "python",
   "pygments_lexer": "ipython3",
   "version": "3.10.9"
  }
 },
 "nbformat": 4,
 "nbformat_minor": 5
}
